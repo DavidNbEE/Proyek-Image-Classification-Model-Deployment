{
  "cells": [
    {
      "cell_type": "code",
      "execution_count": null,
      "metadata": {
        "id": "W4qErNi8cprB"
      },
      "outputs": [],
      "source": [
        "import tensorflow as tf\n",
        "from tensorflow.keras.optimizers import Nadam\n",
        "from tensorflow.keras.preprocessing.image import ImageDataGenerator\n",
        "from sklearn.model_selection import train_test_split\n",
        "from tensorflow.keras.callbacks import ModelCheckpoint, EarlyStopping\n",
        "\n",
        "import zipfile\n",
        "import os\n",
        "import shutil\n",
        "import pandas as pd\n",
        "import numpy as np\n",
        "from keras.preprocessing import image\n",
        "import matplotlib.pyplot as plt\n",
        "import matplotlib.image as mpimg"
      ]
    },
    {
      "cell_type": "code",
      "execution_count": null,
      "metadata": {
        "id": "p1pZZ-2JcprE",
        "outputId": "b3c71c7e-ee42-4249-b77e-7b408e7339ee"
      },
      "outputs": [
        {
          "data": {
            "text/plain": [
              "['Andi', 'David Nababan', 'gema', 'Insan', 'Jona Meivan', 'putra', 'Restu']"
            ]
          },
          "execution_count": 17,
          "metadata": {},
          "output_type": "execute_result"
        }
      ],
      "source": [
        "os.listdir('dataset_face_cropped/')"
      ]
    },
    {
      "cell_type": "code",
      "execution_count": null,
      "metadata": {
        "id": "QjTb3qmQcprE",
        "outputId": "12cfd8ac-b507-4cf6-931a-a8539db02326"
      },
      "outputs": [
        {
          "name": "stdout",
          "output_type": "stream",
          "text": [
            "       Andi Images  David nababan Images  Gema Images  Insan Images  \\\n",
            "Total          208                   224          100           400   \n",
            "\n",
            "       Jona meivan Images  Putra Images  Restu Images  \n",
            "Total                 134           109           164  \n"
          ]
        }
      ],
      "source": [
        "data = {}\n",
        "directories = ['Andi', 'David Nababan', 'gema', 'Insan', 'Jona Meivan', 'putra', 'Restu']\n",
        "\n",
        "for directory in directories:\n",
        "    path = f'dataset_face_cropped/{directory}'\n",
        "    data[f'{directory.capitalize()} Images'] = len(os.listdir(path))\n",
        "\n",
        "df = pd.DataFrame(data, index=['Total'])\n",
        "print(df)"
      ]
    },
    {
      "cell_type": "code",
      "execution_count": null,
      "metadata": {
        "id": "d-ei-JL3cprF"
      },
      "outputs": [],
      "source": [
        "#define path\n",
        "base_dir = 'dataset_face_cropped/'\n",
        "train_dir = os.path.join(base_dir, 'train')\n",
        "validation_dir = os.path.join(base_dir, 'val')\n",
        "Jona_dir = os.path.join(base_dir, 'Jona meivan')\n",
        "Andi_dir = os.path.join(base_dir,'Andi')\n",
        "David_dir = os.path.join(base_dir, 'David Nababan')\n",
        "Gema_dir = os.path.join(base_dir, 'Gema')\n",
        "Putra_dir = os.path.join(base_dir, 'putra')\n",
        "Restu_dir = os.path.join(base_dir, 'Restu')\n",
        "Insan_dir = os.path.join(base_dir, 'Insan')"
      ]
    },
    {
      "cell_type": "code",
      "execution_count": null,
      "metadata": {
        "id": "ynrGOvr2cprG"
      },
      "outputs": [],
      "source": [
        "os.mkdir(train_dir)\n",
        "os.mkdir(validation_dir)"
      ]
    },
    {
      "cell_type": "code",
      "execution_count": null,
      "metadata": {
        "id": "QUt3r-jxcprG"
      },
      "outputs": [],
      "source": [
        "Andi_train = os.path.join(train_dir,'Andi')\n",
        "David_train = os.path.join(train_dir, 'David Nababan')\n",
        "Gema_train = os.path.join(train_dir, 'Gema')\n",
        "Putra_train = os.path.join(train_dir, 'putra')\n",
        "Restu_train = os.path.join(train_dir, 'Restu')\n",
        "Jona_train = os.path.join(train_dir, 'Jona meivan')\n",
        "Insan_train = os.path.join(train_dir, 'Insan')"
      ]
    },
    {
      "cell_type": "code",
      "execution_count": null,
      "metadata": {
        "id": "Q9OfWmiccprG"
      },
      "outputs": [],
      "source": [
        "Andi_validation = os.path.join(validation_dir,'Andi')\n",
        "David_validation = os.path.join(validation_dir, 'David Nababan')\n",
        "Gema_validation = os.path.join(validation_dir, 'Gema')\n",
        "Putra_validation = os.path.join(validation_dir, 'putra')\n",
        "Restu_validation = os.path.join(validation_dir, 'Restu')\n",
        "Jona_validation = os.path.join(validation_dir, 'Jona meivan')\n",
        "Insan_validation = os.path.join(validation_dir,'Insan')"
      ]
    },
    {
      "cell_type": "code",
      "execution_count": null,
      "metadata": {
        "id": "XkFeaXbfcprG"
      },
      "outputs": [],
      "source": [
        "os.mkdir(Jona_train)\n",
        "os.mkdir(Jona_validation)\n",
        "os.mkdir(Andi_train)\n",
        "os.mkdir(David_train)\n",
        "os.mkdir(Gema_train)\n",
        "os.mkdir(Putra_train)\n",
        "os.mkdir(Restu_train)\n",
        "os.mkdir(Andi_validation)\n",
        "os.mkdir(David_validation)\n",
        "os.mkdir(Gema_validation)\n",
        "os.mkdir(Putra_validation)\n",
        "os.mkdir(Restu_validation)\n",
        "os.mkdir(Insan_train)\n",
        "os.mkdir(Insan_validation)"
      ]
    },
    {
      "cell_type": "code",
      "execution_count": null,
      "metadata": {
        "id": "KbbzT8EPcprG"
      },
      "outputs": [],
      "source": [
        "train_Andi_dir, val_Andi_dir = train_test_split(os.listdir(Andi_dir), test_size=0.2)\n",
        "train_David_dir, val_David_dir = train_test_split(os.listdir(David_dir), test_size=0.2)\n",
        "train_Gema_dir, val_Gema_dir = train_test_split(os.listdir(Gema_dir), test_size=0.2)\n",
        "train_Putra_dir, val_Putra_dir = train_test_split(os.listdir(Putra_dir), test_size=0.2)\n",
        "train_Jona_dir, val_Jona_dir = train_test_split(os.listdir(Jona_dir), test_size=0.2)\n",
        "train_Restu_dir, val_Restu_dir = train_test_split(os.listdir(Restu_dir), test_size=0.2)\n",
        "train_Insan_dir, val_Insan_dir = train_test_split(os.listdir(Insan_dir), test_size=0.2)"
      ]
    },
    {
      "cell_type": "markdown",
      "metadata": {
        "id": "P4dRdkigcprH"
      },
      "source": []
    },
    {
      "cell_type": "code",
      "execution_count": null,
      "metadata": {
        "id": "VQkJhwDKcprH"
      },
      "outputs": [],
      "source": [
        "for i in train_Andi_dir:\n",
        "  shutil.copy(os.path.join(Andi_dir, i), os.path.join(Andi_train, i))\n",
        "for j in train_David_dir:\n",
        "  shutil.copy(os.path.join(David_dir, j), os.path.join(David_train, j))\n",
        "for k in train_Gema_dir:\n",
        "  shutil.copy(os.path.join(Gema_dir, k), os.path.join(Gema_train, k))\n",
        "for l in train_Jona_dir:\n",
        "  shutil.copy(os.path.join(Jona_dir, l), os.path.join(Jona_train, l))\n",
        "for m in train_Restu_dir:\n",
        "  shutil.copy(os.path.join(Restu_dir, m), os.path.join(Restu_train, m))\n",
        "for n in train_Putra_dir:\n",
        "  shutil.copy(os.path.join(Putra_dir, n), os.path.join(Putra_train, n))\n",
        "for o in train_Insan_dir:\n",
        "  shutil.copy(os.path.join(Insan_dir, o), os.path.join(Insan_train, o))\n",
        "\n",
        "for i in val_Andi_dir:\n",
        "  shutil.copy(os.path.join(Andi_dir, i), os.path.join(Andi_validation, i))\n",
        "for j in val_David_dir:\n",
        "  shutil.copy(os.path.join(David_dir, j), os.path.join(David_validation, j))\n",
        "for k in val_Gema_dir:\n",
        "  shutil.copy(os.path.join(Gema_dir, k), os.path.join(Gema_validation, k))\n",
        "for l in val_Jona_dir:\n",
        "  shutil.copy(os.path.join(Jona_dir, l), os.path.join(Jona_validation, l))\n",
        "for m in val_Restu_dir:\n",
        "  shutil.copy(os.path.join(Restu_dir, m), os.path.join(Restu_validation, m))\n",
        "for n in val_Putra_dir:\n",
        "  shutil.copy(os.path.join(Putra_dir, n), os.path.join(Putra_validation, n))\n",
        "for o in val_Insan_dir:\n",
        "  shutil.copy(os.path.join(Insan_dir, o), os.path.join(Insan_validation, o))"
      ]
    },
    {
      "cell_type": "code",
      "execution_count": null,
      "metadata": {
        "id": "PWQCDV1gcprI",
        "outputId": "076223ba-ec67-4caa-a95a-43f5245f4e88"
      },
      "outputs": [
        {
          "name": "stdout",
          "output_type": "stream",
          "text": [
            "Found 1218 images belonging to 7 classes.\n",
            "Found 269 images belonging to 7 classes.\n"
          ]
        }
      ],
      "source": [
        "#image preprocessing\n",
        "train_datagen = ImageDataGenerator(\n",
        "    rescale=1./255,\n",
        "    rotation_range=20,\n",
        "    width_shift_range=0.2,\n",
        "    height_shift_range=0.2,\n",
        "    shear_range=0.2,\n",
        "    zoom_range=0.2,\n",
        "    horizontal_flip=True,\n",
        "    fill_mode='nearest'\n",
        ")\n",
        "\n",
        "test_datagen = ImageDataGenerator(\n",
        "    rescale = 1./255)\n",
        "\n",
        "\n",
        "#making generator\n",
        "train_generator = train_datagen.flow_from_directory(\n",
        "    train_dir,\n",
        "    target_size=(150, 150),\n",
        "    batch_size=32,\n",
        "    class_mode='categorical'\n",
        ")\n",
        "\n",
        "validation_generator = test_datagen.flow_from_directory(\n",
        "    validation_dir,\n",
        "    target_size=(150, 150),\n",
        "    batch_size=32,\n",
        "    class_mode='categorical'\n",
        ")\n",
        ""
      ]
    },
    {
      "cell_type": "code",
      "execution_count": null,
      "metadata": {
        "id": "qe0n6t9rcprI",
        "outputId": "77cf75bc-ce8c-497e-892e-43cad3cf5c39"
      },
      "outputs": [
        {
          "name": "stdout",
          "output_type": "stream",
          "text": [
            "Model: \"sequential_2\"\n",
            "_________________________________________________________________\n",
            " Layer (type)                Output Shape              Param #   \n",
            "=================================================================\n",
            " conv2d_6 (Conv2D)           (None, 148, 148, 32)      896       \n",
            "                                                                 \n",
            " max_pooling2d_6 (MaxPooling  (None, 74, 74, 32)       0         \n",
            " 2D)                                                             \n",
            "                                                                 \n",
            " conv2d_7 (Conv2D)           (None, 72, 72, 64)        18496     \n",
            "                                                                 \n",
            " max_pooling2d_7 (MaxPooling  (None, 36, 36, 64)       0         \n",
            " 2D)                                                             \n",
            "                                                                 \n",
            " conv2d_8 (Conv2D)           (None, 34, 34, 128)       73856     \n",
            "                                                                 \n",
            " max_pooling2d_8 (MaxPooling  (None, 17, 17, 128)      0         \n",
            " 2D)                                                             \n",
            "                                                                 \n",
            " flatten_2 (Flatten)         (None, 36992)             0         \n",
            "                                                                 \n",
            " dense_4 (Dense)             (None, 512)               18940416  \n",
            "                                                                 \n",
            " dropout_2 (Dropout)         (None, 512)               0         \n",
            "                                                                 \n",
            " dense_5 (Dense)             (None, 7)                 3591      \n",
            "                                                                 \n",
            "=================================================================\n",
            "Total params: 19,037,255\n",
            "Trainable params: 19,037,255\n",
            "Non-trainable params: 0\n",
            "_________________________________________________________________\n"
          ]
        }
      ],
      "source": [
        "model = tf.keras.models.Sequential([\n",
        "    tf.keras.layers.Conv2D(32, (3, 3), activation='relu', input_shape=(150, 150, 3)),\n",
        "    tf.keras.layers.MaxPooling2D(2, 2),\n",
        "    tf.keras.layers.Conv2D(64, (3, 3), activation='relu'),\n",
        "    tf.keras.layers.MaxPooling2D(2, 2),\n",
        "    tf.keras.layers.Conv2D(128, (3, 3), activation='relu'),\n",
        "    tf.keras.layers.MaxPooling2D(2, 2),\n",
        "    tf.keras.layers.Flatten(),\n",
        "    tf.keras.layers.Dense(512, activation='relu'),\n",
        "    tf.keras.layers.Dropout(0.6),\n",
        "    tf.keras.layers.Dense(7, activation='softmax')\n",
        "])\n",
        "\n",
        "model.summary()"
      ]
    },
    {
      "cell_type": "code",
      "execution_count": null,
      "metadata": {
        "id": "4d6paq8ccprI"
      },
      "outputs": [],
      "source": [
        "model.compile(loss='categorical_crossentropy',\n",
        "              optimizer=Nadam(learning_rate=0.002, beta_1=0.9, beta_2=0.999),\n",
        "              metrics=['accuracy'])"
      ]
    },
    {
      "cell_type": "code",
      "execution_count": null,
      "metadata": {
        "id": "V9Fygjn_cprI"
      },
      "outputs": [],
      "source": [
        "#making callbacks\n",
        "checkpoint = ModelCheckpoint(\n",
        "    'model.h5',\n",
        "    monitor='val_accuracy',\n",
        "    save_best_only=False,\n",
        "    verbose=1)\n",
        "\n",
        "early_stopping = EarlyStopping(\n",
        "    monitor='val_loss',\n",
        "    patience=5,\n",
        "    verbose=1)\n",
        "\n",
        "class auto_accuracy_stop(tf.keras.callbacks.Callback):\n",
        "    def on_epoch_end(self, epoch, logs = None):\n",
        "        if logs.get('accuracy') > 0.97:\n",
        "            print('\\nAccuracy has greater than 97%. Training Stopped')\n",
        "            self.model.stop_training = True\n",
        "\n",
        "auto_stop = auto_accuracy_stop()"
      ]
    },
    {
      "cell_type": "code",
      "execution_count": null,
      "metadata": {
        "id": "wnfh7AHRcprJ",
        "outputId": "83221f19-e6af-46c3-b0f3-b7d02efad51f"
      },
      "outputs": [
        {
          "name": "stdout",
          "output_type": "stream",
          "text": [
            "Epoch 1/50\n",
            "39/39 [==============================] - ETA: 0s - loss: 2.1343 - accuracy: 0.2381\n",
            "Epoch 1: saving model to model.h5\n",
            "39/39 [==============================] - 14s 338ms/step - loss: 2.1343 - accuracy: 0.2381 - val_loss: 1.8356 - val_accuracy: 0.4052\n",
            "Epoch 2/50\n",
            "39/39 [==============================] - ETA: 0s - loss: 1.8681 - accuracy: 0.3186\n",
            "Epoch 2: saving model to model.h5\n",
            "39/39 [==============================] - 7s 179ms/step - loss: 1.8681 - accuracy: 0.3186 - val_loss: 1.7933 - val_accuracy: 0.4238\n",
            "Epoch 3/50\n",
            "39/39 [==============================] - ETA: 0s - loss: 1.8996 - accuracy: 0.2644\n",
            "Epoch 3: saving model to model.h5\n",
            "39/39 [==============================] - 7s 173ms/step - loss: 1.8996 - accuracy: 0.2644 - val_loss: 1.8317 - val_accuracy: 0.2974\n",
            "Epoch 4/50\n",
            "39/39 [==============================] - ETA: 0s - loss: 1.8633 - accuracy: 0.2635\n",
            "Epoch 4: saving model to model.h5\n",
            "39/39 [==============================] - 7s 178ms/step - loss: 1.8633 - accuracy: 0.2635 - val_loss: 1.7780 - val_accuracy: 0.2974\n",
            "Epoch 5/50\n",
            "39/39 [==============================] - ETA: 0s - loss: 1.8242 - accuracy: 0.2808\n",
            "Epoch 5: saving model to model.h5\n",
            "39/39 [==============================] - 7s 184ms/step - loss: 1.8242 - accuracy: 0.2808 - val_loss: 1.6771 - val_accuracy: 0.3011\n",
            "Epoch 6/50\n",
            "39/39 [==============================] - ETA: 0s - loss: 1.9776 - accuracy: 0.3071\n",
            "Epoch 6: saving model to model.h5\n",
            "39/39 [==============================] - 7s 185ms/step - loss: 1.9776 - accuracy: 0.3071 - val_loss: 1.3543 - val_accuracy: 0.7361\n",
            "Epoch 7/50\n",
            "39/39 [==============================] - ETA: 0s - loss: 1.4804 - accuracy: 0.4433\n",
            "Epoch 7: saving model to model.h5\n",
            "39/39 [==============================] - 7s 181ms/step - loss: 1.4804 - accuracy: 0.4433 - val_loss: 0.8800 - val_accuracy: 0.8625\n",
            "Epoch 8/50\n",
            "39/39 [==============================] - ETA: 0s - loss: 1.2217 - accuracy: 0.5402\n",
            "Epoch 8: saving model to model.h5\n",
            "39/39 [==============================] - 7s 179ms/step - loss: 1.2217 - accuracy: 0.5402 - val_loss: 0.7007 - val_accuracy: 0.7955\n",
            "Epoch 9/50\n",
            "39/39 [==============================] - ETA: 0s - loss: 1.0917 - accuracy: 0.5846\n",
            "Epoch 9: saving model to model.h5\n",
            "39/39 [==============================] - 7s 187ms/step - loss: 1.0917 - accuracy: 0.5846 - val_loss: 0.7632 - val_accuracy: 0.7658\n",
            "Epoch 10/50\n",
            "39/39 [==============================] - ETA: 0s - loss: 1.0092 - accuracy: 0.6133\n",
            "Epoch 10: saving model to model.h5\n",
            "39/39 [==============================] - 7s 187ms/step - loss: 1.0092 - accuracy: 0.6133 - val_loss: 0.6130 - val_accuracy: 0.7993\n",
            "Epoch 11/50\n",
            "39/39 [==============================] - ETA: 0s - loss: 1.0084 - accuracy: 0.6207\n",
            "Epoch 11: saving model to model.h5\n",
            "39/39 [==============================] - 7s 182ms/step - loss: 1.0084 - accuracy: 0.6207 - val_loss: 0.5989 - val_accuracy: 0.8290\n",
            "Epoch 12/50\n",
            "39/39 [==============================] - ETA: 0s - loss: 0.9081 - accuracy: 0.6691\n",
            "Epoch 12: saving model to model.h5\n",
            "39/39 [==============================] - 7s 189ms/step - loss: 0.9081 - accuracy: 0.6691 - val_loss: 0.4838 - val_accuracy: 0.8364\n",
            "Epoch 13/50\n",
            "38/39 [============================>.] - ETA: 0s - loss: 0.8100 - accuracy: 0.7023\n",
            "Epoch 13: saving model to model.h5\n",
            "39/39 [==============================] - 7s 190ms/step - loss: 0.8087 - accuracy: 0.7028 - val_loss: 0.4212 - val_accuracy: 0.8736\n",
            "Epoch 14/50\n",
            "39/39 [==============================] - ETA: 0s - loss: 0.7410 - accuracy: 0.7143\n",
            "Epoch 14: saving model to model.h5\n",
            "39/39 [==============================] - 7s 187ms/step - loss: 0.7410 - accuracy: 0.7143 - val_loss: 0.3032 - val_accuracy: 0.9628\n",
            "Epoch 15/50\n",
            "38/39 [============================>.] - ETA: 0s - loss: 0.6657 - accuracy: 0.7558\n",
            "Epoch 15: saving model to model.h5\n",
            "39/39 [==============================] - 7s 186ms/step - loss: 0.6649 - accuracy: 0.7562 - val_loss: 0.2267 - val_accuracy: 0.9665\n",
            "Epoch 16/50\n",
            "39/39 [==============================] - ETA: 0s - loss: 0.6174 - accuracy: 0.7718\n",
            "Epoch 16: saving model to model.h5\n",
            "39/39 [==============================] - 7s 190ms/step - loss: 0.6174 - accuracy: 0.7718 - val_loss: 0.2176 - val_accuracy: 0.9628\n",
            "Epoch 17/50\n",
            "39/39 [==============================] - ETA: 0s - loss: 0.5450 - accuracy: 0.8071\n",
            "Epoch 17: saving model to model.h5\n",
            "39/39 [==============================] - 7s 188ms/step - loss: 0.5450 - accuracy: 0.8071 - val_loss: 0.1538 - val_accuracy: 0.9777\n",
            "Epoch 18/50\n",
            "39/39 [==============================] - ETA: 0s - loss: 0.6368 - accuracy: 0.7989\n",
            "Epoch 18: saving model to model.h5\n",
            "39/39 [==============================] - 8s 194ms/step - loss: 0.6368 - accuracy: 0.7989 - val_loss: 0.1415 - val_accuracy: 0.9814\n",
            "Epoch 19/50\n",
            "39/39 [==============================] - ETA: 0s - loss: 0.4231 - accuracy: 0.8588\n",
            "Epoch 19: saving model to model.h5\n",
            "39/39 [==============================] - 7s 190ms/step - loss: 0.4231 - accuracy: 0.8588 - val_loss: 0.1794 - val_accuracy: 0.9405\n",
            "Epoch 20/50\n",
            "39/39 [==============================] - ETA: 0s - loss: 0.4385 - accuracy: 0.8530\n",
            "Epoch 20: saving model to model.h5\n",
            "39/39 [==============================] - 7s 190ms/step - loss: 0.4385 - accuracy: 0.8530 - val_loss: 0.0921 - val_accuracy: 0.9888\n",
            "Epoch 21/50\n",
            "39/39 [==============================] - ETA: 0s - loss: 0.3347 - accuracy: 0.8851\n",
            "Epoch 21: saving model to model.h5\n",
            "39/39 [==============================] - 8s 194ms/step - loss: 0.3347 - accuracy: 0.8851 - val_loss: 0.0860 - val_accuracy: 0.9814\n",
            "Epoch 22/50\n",
            "39/39 [==============================] - ETA: 0s - loss: 0.3371 - accuracy: 0.8826\n",
            "Epoch 22: saving model to model.h5\n",
            "39/39 [==============================] - 8s 197ms/step - loss: 0.3371 - accuracy: 0.8826 - val_loss: 0.0491 - val_accuracy: 0.9888\n",
            "Epoch 23/50\n",
            "39/39 [==============================] - ETA: 0s - loss: 0.3115 - accuracy: 0.8892\n",
            "Epoch 23: saving model to model.h5\n",
            "39/39 [==============================] - 8s 195ms/step - loss: 0.3115 - accuracy: 0.8892 - val_loss: 0.0465 - val_accuracy: 0.9963\n",
            "Epoch 24/50\n",
            "39/39 [==============================] - ETA: 0s - loss: 0.3064 - accuracy: 0.8966\n",
            "Epoch 24: saving model to model.h5\n",
            "39/39 [==============================] - 9s 231ms/step - loss: 0.3064 - accuracy: 0.8966 - val_loss: 0.1087 - val_accuracy: 0.9665\n",
            "Epoch 25/50\n",
            "39/39 [==============================] - ETA: 0s - loss: 0.3056 - accuracy: 0.8933\n",
            "Epoch 25: saving model to model.h5\n",
            "39/39 [==============================] - 8s 202ms/step - loss: 0.3056 - accuracy: 0.8933 - val_loss: 0.0366 - val_accuracy: 0.9888\n",
            "Epoch 26/50\n",
            "39/39 [==============================] - ETA: 0s - loss: 0.2786 - accuracy: 0.9064\n",
            "Epoch 26: saving model to model.h5\n",
            "39/39 [==============================] - 8s 209ms/step - loss: 0.2786 - accuracy: 0.9064 - val_loss: 0.0346 - val_accuracy: 0.9888\n",
            "Epoch 27/50\n",
            "39/39 [==============================] - ETA: 0s - loss: 0.2484 - accuracy: 0.9187\n",
            "Epoch 27: saving model to model.h5\n",
            "39/39 [==============================] - 9s 222ms/step - loss: 0.2484 - accuracy: 0.9187 - val_loss: 0.0340 - val_accuracy: 0.9888\n",
            "Epoch 28/50\n",
            "39/39 [==============================] - ETA: 0s - loss: 0.3053 - accuracy: 0.8892\n",
            "Epoch 28: saving model to model.h5\n",
            "39/39 [==============================] - 8s 201ms/step - loss: 0.3053 - accuracy: 0.8892 - val_loss: 0.0260 - val_accuracy: 0.9963\n",
            "Epoch 29/50\n",
            "39/39 [==============================] - ETA: 0s - loss: 0.2399 - accuracy: 0.9220\n",
            "Epoch 29: saving model to model.h5\n",
            "39/39 [==============================] - 8s 208ms/step - loss: 0.2399 - accuracy: 0.9220 - val_loss: 0.0239 - val_accuracy: 0.9963\n",
            "Epoch 30/50\n",
            "39/39 [==============================] - ETA: 0s - loss: 0.2070 - accuracy: 0.9294\n",
            "Epoch 30: saving model to model.h5\n",
            "39/39 [==============================] - 8s 207ms/step - loss: 0.2070 - accuracy: 0.9294 - val_loss: 0.0164 - val_accuracy: 1.0000\n",
            "Epoch 31/50\n",
            "39/39 [==============================] - ETA: 0s - loss: 0.2467 - accuracy: 0.9253\n",
            "Epoch 31: saving model to model.h5\n",
            "39/39 [==============================] - 8s 201ms/step - loss: 0.2467 - accuracy: 0.9253 - val_loss: 0.0222 - val_accuracy: 0.9926\n",
            "Epoch 32/50\n",
            "39/39 [==============================] - ETA: 0s - loss: 0.1808 - accuracy: 0.9327\n",
            "Epoch 32: saving model to model.h5\n",
            "39/39 [==============================] - 8s 204ms/step - loss: 0.1808 - accuracy: 0.9327 - val_loss: 0.0160 - val_accuracy: 0.9963\n",
            "Epoch 33/50\n",
            "39/39 [==============================] - ETA: 0s - loss: 0.1598 - accuracy: 0.9491\n",
            "Epoch 33: saving model to model.h5\n",
            "39/39 [==============================] - 8s 210ms/step - loss: 0.1598 - accuracy: 0.9491 - val_loss: 0.0112 - val_accuracy: 0.9963\n",
            "Epoch 34/50\n",
            "39/39 [==============================] - ETA: 0s - loss: 0.1420 - accuracy: 0.9581\n",
            "Epoch 34: saving model to model.h5\n",
            "39/39 [==============================] - 9s 226ms/step - loss: 0.1420 - accuracy: 0.9581 - val_loss: 0.0153 - val_accuracy: 0.9963\n",
            "Epoch 35/50\n",
            "39/39 [==============================] - ETA: 0s - loss: 0.1753 - accuracy: 0.9458\n",
            "Epoch 35: saving model to model.h5\n",
            "39/39 [==============================] - 8s 205ms/step - loss: 0.1753 - accuracy: 0.9458 - val_loss: 0.0150 - val_accuracy: 0.9963\n",
            "Epoch 36/50\n",
            "39/39 [==============================] - ETA: 0s - loss: 0.1407 - accuracy: 0.9475\n",
            "Epoch 36: saving model to model.h5\n",
            "39/39 [==============================] - 9s 222ms/step - loss: 0.1407 - accuracy: 0.9475 - val_loss: 0.0085 - val_accuracy: 1.0000\n",
            "Epoch 37/50\n",
            "39/39 [==============================] - ETA: 0s - loss: 0.1759 - accuracy: 0.9417\n",
            "Epoch 37: saving model to model.h5\n",
            "39/39 [==============================] - 8s 213ms/step - loss: 0.1759 - accuracy: 0.9417 - val_loss: 0.0352 - val_accuracy: 0.9851\n",
            "Epoch 38/50\n",
            "39/39 [==============================] - ETA: 0s - loss: 0.1644 - accuracy: 0.9532\n",
            "Epoch 38: saving model to model.h5\n",
            "39/39 [==============================] - 9s 221ms/step - loss: 0.1644 - accuracy: 0.9532 - val_loss: 0.0092 - val_accuracy: 1.0000\n",
            "Epoch 39/50\n",
            "39/39 [==============================] - ETA: 0s - loss: 0.1596 - accuracy: 0.9532\n",
            "Epoch 39: saving model to model.h5\n",
            "39/39 [==============================] - 8s 214ms/step - loss: 0.1596 - accuracy: 0.9532 - val_loss: 0.0087 - val_accuracy: 0.9963\n",
            "Epoch 40/50\n",
            "39/39 [==============================] - ETA: 0s - loss: 0.1515 - accuracy: 0.9499\n",
            "Epoch 40: saving model to model.h5\n",
            "39/39 [==============================] - 8s 206ms/step - loss: 0.1515 - accuracy: 0.9499 - val_loss: 0.0099 - val_accuracy: 1.0000\n",
            "Epoch 41/50\n",
            "39/39 [==============================] - ETA: 0s - loss: 0.1298 - accuracy: 0.9598\n",
            "Epoch 41: saving model to model.h5\n",
            "39/39 [==============================] - 9s 222ms/step - loss: 0.1298 - accuracy: 0.9598 - val_loss: 0.0032 - val_accuracy: 1.0000\n",
            "Epoch 42/50\n",
            "39/39 [==============================] - ETA: 0s - loss: 0.1246 - accuracy: 0.9639\n",
            "Epoch 42: saving model to model.h5\n",
            "39/39 [==============================] - 9s 233ms/step - loss: 0.1246 - accuracy: 0.9639 - val_loss: 0.0037 - val_accuracy: 1.0000\n",
            "Epoch 43/50\n",
            "39/39 [==============================] - ETA: 0s - loss: 0.1176 - accuracy: 0.9606\n",
            "Epoch 43: saving model to model.h5\n",
            "39/39 [==============================] - 9s 221ms/step - loss: 0.1176 - accuracy: 0.9606 - val_loss: 0.0038 - val_accuracy: 1.0000\n",
            "Epoch 44/50\n",
            "39/39 [==============================] - ETA: 0s - loss: 0.1354 - accuracy: 0.9565\n",
            "Epoch 44: saving model to model.h5\n",
            "39/39 [==============================] - 8s 214ms/step - loss: 0.1354 - accuracy: 0.9565 - val_loss: 0.0035 - val_accuracy: 1.0000\n",
            "Epoch 45/50\n",
            "39/39 [==============================] - ETA: 0s - loss: 0.4969 - accuracy: 0.8957\n",
            "Epoch 45: saving model to model.h5\n",
            "39/39 [==============================] - 8s 214ms/step - loss: 0.4969 - accuracy: 0.8957 - val_loss: 0.0866 - val_accuracy: 0.9888\n",
            "Epoch 46/50\n",
            "39/39 [==============================] - ETA: 0s - loss: 0.2583 - accuracy: 0.9138\n",
            "Epoch 46: saving model to model.h5\n",
            "39/39 [==============================] - 9s 241ms/step - loss: 0.2583 - accuracy: 0.9138 - val_loss: 0.0125 - val_accuracy: 1.0000\n",
            "Epoch 46: early stopping\n"
          ]
        }
      ],
      "source": [
        "history = model.fit(\n",
        "    train_generator,\n",
        "    steps_per_epoch = len(train_generator),\n",
        "    epochs = 50,\n",
        "    validation_data = validation_generator,\n",
        "    validation_steps = len(validation_generator),\n",
        "    verbose = 1,\n",
        "    callbacks=[checkpoint, early_stopping, auto_stop]\n",
        ")"
      ]
    },
    {
      "cell_type": "code",
      "execution_count": null,
      "metadata": {
        "id": "QZr03B0XcprJ",
        "outputId": "160f3f8a-e03c-4377-df89-f974c4dad264"
      },
      "outputs": [
        {
          "data": {
            "image/png": "[encoded data removed]",
            "text/plain": [
              "<Figure size 640x480 with 1 Axes>"
            ]
          },
          "metadata": {},
          "output_type": "display_data"
        }
      ],
      "source": [
        "plt.plot(history.history['accuracy'], label='Training')\n",
        "plt.plot(history.history['val_accuracy'], label='Validation')\n",
        "plt.title('Plot Accuracy')\n",
        "plt.ylabel('Value')\n",
        "plt.xlabel('Epoch')\n",
        "plt.legend(loc=\"lower right\")\n",
        "plt.show()"
      ]
    },
    {
      "cell_type": "code",
      "execution_count": null,
      "metadata": {
        "id": "VMyHfoUHcprJ",
        "outputId": "ff8eae3d-d9ee-4423-86c2-f7a29313739d"
      },
      "outputs": [
        {
          "data": {
            "image/png": "[encoded data removed]",
            "text/plain": [
              "<Figure size 640x480 with 1 Axes>"
            ]
          },
          "metadata": {},
          "output_type": "display_data"
        }
      ],
      "source": [
        "plt.plot(history.history['loss'], label='Training')\n",
        "plt.plot(history.history['val_loss'], label='Validation')\n",
        "plt.title('Plot Loss')\n",
        "plt.ylabel('Value')\n",
        "plt.xlabel('Epoch')\n",
        "plt.legend(loc=\"upper right\")\n",
        "plt.show()"
      ]
    },
    {
      "cell_type": "code",
      "execution_count": null,
      "metadata": {
        "id": "OAXkE9LScprJ",
        "outputId": "e3f37db8-fde2-46ac-d4c3-39f80fcaa702"
      },
      "outputs": [
        {
          "name": "stderr",
          "output_type": "stream",
          "text": [
            "WARNING:absl:Found untraced functions such as _jit_compiled_convolution_op, _jit_compiled_convolution_op, _jit_compiled_convolution_op while saving (showing 3 of 3). These functions will not be directly callable after loading.\n"
          ]
        },
        {
          "name": "stdout",
          "output_type": "stream",
          "text": [
            "INFO:tensorflow:Assets written to: C:\\Users\\user\\AppData\\Local\\Temp\\tmpqcefxsj3\\assets\n"
          ]
        },
        {
          "name": "stderr",
          "output_type": "stream",
          "text": [
            "INFO:tensorflow:Assets written to: C:\\Users\\user\\AppData\\Local\\Temp\\tmpqcefxsj3\\assets\n"
          ]
        }
      ],
      "source": [
        "import tensorflow as tf\n",
        "\n",
        "model = tf.keras.models.load_model('model.h5')\n",
        "\n",
        "converter = tf.lite.TFLiteConverter.from_keras_model(model)\n",
        "tflite_model = converter.convert()\n",
        "\n",
        "with open('converted_model.tflite', 'wb') as f:\n",
        "    f.write(tflite_model)\n"
      ]
    }
  ],
  "metadata": {
    "kernelspec": {
      "display_name": "TugasAkhir",
      "language": "python",
      "name": "python3"
    },
    "language_info": {
      "codemirror_mode": {
        "name": "ipython",
        "version": 3
      },
      "file_extension": ".py",
      "mimetype": "text/x-python",
      "name": "python",
      "nbconvert_exporter": "python",
      "pygments_lexer": "ipython3",
      "version": "3.9.19"
    },
    "colab": {
      "provenance": []
    }
  },
  "nbformat": 4,
  "nbformat_minor": 0
}